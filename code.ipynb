{
 "cells": [
  {
   "cell_type": "code",
   "execution_count": 1,
   "metadata": {},
   "outputs": [
    {
     "name": "stderr",
     "output_type": "stream",
     "text": [
      "C:\\Users\\dell pc\\Anaconda3\\lib\\site-packages\\ipykernel_launcher.py:10: DeprecationWarning: `imread` is deprecated!\n",
      "`imread` is deprecated in SciPy 1.0.0, and will be removed in 1.2.0.\n",
      "Use ``imageio.imread`` instead.\n",
      "  # Remove the CWD from sys.path while we load stuff.\n",
      "C:\\Users\\dell pc\\Anaconda3\\lib\\site-packages\\ipykernel_launcher.py:11: DeprecationWarning: `imresize` is deprecated!\n",
      "`imresize` is deprecated in SciPy 1.0.0, and will be removed in 1.2.0.\n",
      "Use ``skimage.transform.resize`` instead.\n",
      "  # This is added back by InteractiveShellApp.init_path()\n"
     ]
    }
   ],
   "source": [
    "from scipy.misc import imread\n",
    "from scipy.misc import imresize\n",
    "import os\n",
    "ls_train=[]\n",
    "pre_folder=r'C:\\Users\\dell pc\\Desktop\\123\\pre'\n",
    "files=os.listdir(pre_folder)\n",
    "files=list(map(lambda x: os.path.join(pre_folder,x),files))\n",
    "a=(len(files))\n",
    "for i in range(a):\n",
    "    im = imread(files[i])\n",
    "    im=imresize(im,[32,32,3])\n",
    "    im=im.flatten()\n",
    "    ls_train.append(im)"
   ]
  },
  {
   "cell_type": "code",
   "execution_count": 2,
   "metadata": {},
   "outputs": [
    {
     "name": "stderr",
     "output_type": "stream",
     "text": [
      "C:\\Users\\dell pc\\Anaconda3\\lib\\site-packages\\ipykernel_launcher.py:10: DeprecationWarning: `imread` is deprecated!\n",
      "`imread` is deprecated in SciPy 1.0.0, and will be removed in 1.2.0.\n",
      "Use ``imageio.imread`` instead.\n",
      "  # Remove the CWD from sys.path while we load stuff.\n",
      "C:\\Users\\dell pc\\Anaconda3\\lib\\site-packages\\ipykernel_launcher.py:11: DeprecationWarning: `imresize` is deprecated!\n",
      "`imresize` is deprecated in SciPy 1.0.0, and will be removed in 1.2.0.\n",
      "Use ``skimage.transform.resize`` instead.\n",
      "  # This is added back by InteractiveShellApp.init_path()\n"
     ]
    }
   ],
   "source": [
    "from scipy.misc import imread\n",
    "from scipy.misc import imresize\n",
    "import os\n",
    "post_folder=r'C:\\Users\\dell pc\\Desktop\\123\\post'\n",
    "files=os.listdir(post_folder)\n",
    "files=list(map(lambda x: os.path.join(post_folder,x),files))\n",
    "a=(len(files))\n",
    "#print(files)\n",
    "for i in range(a):\n",
    "    im = imread(files[i])\n",
    "    im=imresize(im,[32,32,3])\n",
    "    im=im.flatten()\n",
    "    ls_train.append(im)"
   ]
  },
  {
   "cell_type": "code",
   "execution_count": null,
   "metadata": {},
   "outputs": [],
   "source": []
  },
  {
   "cell_type": "code",
   "execution_count": 3,
   "metadata": {},
   "outputs": [
    {
     "name": "stdout",
     "output_type": "stream",
     "text": [
      "(6, 3072)\n"
     ]
    }
   ],
   "source": [
    "import numpy as np\n",
    "\n",
    "data=np.array(ls_train,dtype=object)\n",
    "print(data.shape)"
   ]
  },
  {
   "cell_type": "code",
   "execution_count": 4,
   "metadata": {},
   "outputs": [],
   "source": [
    "data=data.reshape(-1,32,32,3)\n",
    "data=data/255.0"
   ]
  },
  {
   "cell_type": "code",
   "execution_count": 5,
   "metadata": {},
   "outputs": [
    {
     "data": {
      "text/plain": [
       "(6, 32, 32, 3)"
      ]
     },
     "execution_count": 5,
     "metadata": {},
     "output_type": "execute_result"
    }
   ],
   "source": [
    "data.shape"
   ]
  },
  {
   "cell_type": "code",
   "execution_count": 6,
   "metadata": {},
   "outputs": [],
   "source": [
    "label_train=np.zeros(shape=[23000,1])\n",
    "label_train[:11500]=1"
   ]
  },
  {
   "cell_type": "code",
   "execution_count": 7,
   "metadata": {},
   "outputs": [],
   "source": [
    "a=(data.shape[0])\n",
    "i=np.random.permutation(a)\n",
    "x_train,y_train=data[i],label_train[i]"
   ]
  },
  {
   "cell_type": "code",
   "execution_count": 8,
   "metadata": {},
   "outputs": [
    {
     "name": "stdout",
     "output_type": "stream",
     "text": [
      "(6, 1)\n"
     ]
    }
   ],
   "source": [
    "print(y_train.shape)"
   ]
  },
  {
   "cell_type": "code",
   "execution_count": 9,
   "metadata": {},
   "outputs": [
    {
     "name": "stderr",
     "output_type": "stream",
     "text": [
      "C:\\Users\\dell pc\\Anaconda3\\lib\\site-packages\\ipykernel_launcher.py:7: DeprecationWarning: `imread` is deprecated!\n",
      "`imread` is deprecated in SciPy 1.0.0, and will be removed in 1.2.0.\n",
      "Use ``imageio.imread`` instead.\n",
      "  import sys\n",
      "C:\\Users\\dell pc\\Anaconda3\\lib\\site-packages\\ipykernel_launcher.py:8: DeprecationWarning: `imresize` is deprecated!\n",
      "`imresize` is deprecated in SciPy 1.0.0, and will be removed in 1.2.0.\n",
      "Use ``skimage.transform.resize`` instead.\n",
      "  \n"
     ]
    }
   ],
   "source": [
    "ls_valida=[]\n",
    "pre_folder=r'C:\\Users\\dell pc\\Desktop\\123\\pre'\n",
    "files=os.listdir(pre_folder)\n",
    "files=list(map(lambda x: os.path.join(pre_folder,x),files))\n",
    "a=(len(files))\n",
    "for i in range(a):\n",
    "    im = imread(files[i])\n",
    "    im=imresize(im,[32,32,3])\n",
    "    im=im.flatten()\n",
    "    ls_valida.append(im)"
   ]
  },
  {
   "cell_type": "code",
   "execution_count": 10,
   "metadata": {},
   "outputs": [
    {
     "name": "stderr",
     "output_type": "stream",
     "text": [
      "C:\\Users\\dell pc\\Anaconda3\\lib\\site-packages\\ipykernel_launcher.py:6: DeprecationWarning: `imread` is deprecated!\n",
      "`imread` is deprecated in SciPy 1.0.0, and will be removed in 1.2.0.\n",
      "Use ``imageio.imread`` instead.\n",
      "  \n",
      "C:\\Users\\dell pc\\Anaconda3\\lib\\site-packages\\ipykernel_launcher.py:7: DeprecationWarning: `imresize` is deprecated!\n",
      "`imresize` is deprecated in SciPy 1.0.0, and will be removed in 1.2.0.\n",
      "Use ``skimage.transform.resize`` instead.\n",
      "  import sys\n"
     ]
    }
   ],
   "source": [
    "post_folder=r'C:\\Users\\dell pc\\Desktop\\123\\post'\n",
    "files=os.listdir(post_folder)\n",
    "files=list(map(lambda x: os.path.join(post_folder,x),files))\n",
    "a=(len(files))\n",
    "for i in range(a):\n",
    "    im = imread(files[i])\n",
    "    im=imresize(im,[32,32,3])\n",
    "    im=im.flatten()\n",
    "    ls_valida.append(im)"
   ]
  },
  {
   "cell_type": "code",
   "execution_count": 11,
   "metadata": {},
   "outputs": [
    {
     "name": "stdout",
     "output_type": "stream",
     "text": [
      "(6, 3072)\n"
     ]
    }
   ],
   "source": [
    "import numpy as np\n",
    "\n",
    "data_valid=np.array(ls_valida,dtype=object)\n",
    "print(data_valid.shape)"
   ]
  },
  {
   "cell_type": "code",
   "execution_count": 12,
   "metadata": {},
   "outputs": [
    {
     "data": {
      "text/plain": [
       "6"
      ]
     },
     "execution_count": 12,
     "metadata": {},
     "output_type": "execute_result"
    }
   ],
   "source": [
    "len(ls_valida)"
   ]
  },
  {
   "cell_type": "code",
   "execution_count": 13,
   "metadata": {},
   "outputs": [],
   "source": [
    "data_valid=data_valid.reshape(-1,32,32,3)\n",
    "data_valid=data_valid/255.0"
   ]
  },
  {
   "cell_type": "code",
   "execution_count": 14,
   "metadata": {},
   "outputs": [
    {
     "data": {
      "text/plain": [
       "(6, 32, 32, 3)"
      ]
     },
     "execution_count": 14,
     "metadata": {},
     "output_type": "execute_result"
    }
   ],
   "source": [
    "data_valid.shape"
   ]
  },
  {
   "cell_type": "code",
   "execution_count": 15,
   "metadata": {},
   "outputs": [],
   "source": [
    "label_valid=np.zeros(shape=[2000,1])\n",
    "label_valid[:1000]=1 "
   ]
  },
  {
   "cell_type": "code",
   "execution_count": 16,
   "metadata": {},
   "outputs": [],
   "source": [
    "a=(data_valid.shape[0])\n",
    "i=np.random.permutation(a)\n",
    "x_valid,y_valid=data_valid[i],label_valid[i]"
   ]
  },
  {
   "cell_type": "code",
   "execution_count": 17,
   "metadata": {},
   "outputs": [],
   "source": [
    "def one_hot(raw_labels):\n",
    "    import numpy as np\n",
    "    raw_labels=np.array(raw_labels,np.int32)\n",
    "    n_values = np.max(raw_labels) + 1\n",
    "    onehotDash=np.eye(n_values)[raw_labels]\n",
    "    onehot=np.reshape(onehotDash,(len(raw_labels),2))\n",
    "    print(onehot.shape)\n",
    "    return onehot"
   ]
  },
  {
   "cell_type": "code",
   "execution_count": 18,
   "metadata": {},
   "outputs": [
    {
     "name": "stdout",
     "output_type": "stream",
     "text": [
      "(6, 2)\n"
     ]
    }
   ],
   "source": [
    "onehot_train=one_hot(y_train)"
   ]
  },
  {
   "cell_type": "code",
   "execution_count": 19,
   "metadata": {},
   "outputs": [
    {
     "name": "stdout",
     "output_type": "stream",
     "text": [
      "(6, 2)\n"
     ]
    }
   ],
   "source": [
    "onehot_valid=one_hot(y_valid)"
   ]
  },
  {
   "cell_type": "code",
   "execution_count": 20,
   "metadata": {},
   "outputs": [],
   "source": [
    "def weight_init(shape): \n",
    "    weight=tf.truncated_normal(shape,stddev=0.1)\n",
    "    return tf.Variable(weight)"
   ]
  },
  {
   "cell_type": "code",
   "execution_count": 21,
   "metadata": {},
   "outputs": [],
   "source": [
    "def bias_init(shape):\n",
    "    bias=tf.constant(0.2,shape=shape)\n",
    "    return tf.Variable(bias)"
   ]
  },
  {
   "cell_type": "code",
   "execution_count": 22,
   "metadata": {},
   "outputs": [],
   "source": [
    "def conv_d(x,w):\n",
    "    return tf.nn.conv2d(x, w, strides=[1, 1, 1, 1], padding='SAME')"
   ]
  },
  {
   "cell_type": "code",
   "execution_count": 23,
   "metadata": {},
   "outputs": [],
   "source": [
    "def max_pool(x):\n",
    "      return tf.nn.max_pool(x, ksize=[1, 2, 2, 1],\n",
    "                        strides=[1, 2, 2, 1], padding='SAME')"
   ]
  },
  {
   "cell_type": "code",
   "execution_count": 24,
   "metadata": {},
   "outputs": [],
   "source": [
    "import tensorflow as tf\n",
    "x=tf.placeholder(tf.float32,shape=[None,32,32,3])\n",
    "y_=tf.placeholder(tf.float32,shape=[None,2])"
   ]
  },
  {
   "cell_type": "code",
   "execution_count": 25,
   "metadata": {},
   "outputs": [
    {
     "name": "stdout",
     "output_type": "stream",
     "text": [
      "WARNING:tensorflow:From C:\\Users\\dell pc\\Anaconda3\\lib\\site-packages\\tensorflow\\python\\framework\\op_def_library.py:263: colocate_with (from tensorflow.python.framework.ops) is deprecated and will be removed in a future version.\n",
      "Instructions for updating:\n",
      "Colocations handled automatically by placer.\n",
      "WARNING:tensorflow:From <ipython-input-25-31d563997784>:21: calling dropout (from tensorflow.python.ops.nn_ops) with keep_prob is deprecated and will be removed in a future version.\n",
      "Instructions for updating:\n",
      "Please use `rate` instead of `keep_prob`. Rate should be set to `rate = 1 - keep_prob`.\n",
      "WARNING:tensorflow:From <ipython-input-25-31d563997784>:33: softmax_cross_entropy_with_logits (from tensorflow.python.ops.nn_ops) is deprecated and will be removed in a future version.\n",
      "Instructions for updating:\n",
      "\n",
      "Future major versions of TensorFlow will allow gradients to flow\n",
      "into the labels input on backprop by default.\n",
      "\n",
      "See `tf.nn.softmax_cross_entropy_with_logits_v2`.\n",
      "\n",
      "epoch 0, training accuracy 1\n",
      "0.0\n",
      "epoch 1, training accuracy 1\n",
      "0.0\n",
      "epoch 2, training accuracy 1\n",
      "0.0\n",
      "epoch 3, training accuracy 1\n",
      "0.0\n",
      "epoch 4, training accuracy 1\n",
      "0.0\n",
      "epoch 5, training accuracy 1\n",
      "0.0\n",
      "epoch 6, training accuracy 1\n",
      "0.0\n",
      "epoch 7, training accuracy 1\n",
      "0.0\n",
      "epoch 8, training accuracy 1\n",
      "0.0\n",
      "epoch 9, training accuracy 1\n",
      "0.0\n",
      "epoch 10, training accuracy 1\n",
      "0.0\n",
      "epoch 11, training accuracy 1\n",
      "0.0\n",
      "epoch 12, training accuracy 1\n",
      "0.0\n",
      "epoch 13, training accuracy 1\n",
      "0.0\n",
      "epoch 14, training accuracy 1\n",
      "0.0\n"
     ]
    }
   ],
   "source": [
    "w_conv1=weight_init([5,5,3,16])\n",
    "b_conv1=bias_init([16])\n",
    "#x_final=convert_images(x)\n",
    "f_conv=tf.nn.relu(conv_d(x,w_conv1) + b_conv1)\n",
    "#batch_mean2, batch_var2 = tf.nn.moments(f_conv,[0])\n",
    "f_pool=max_pool(f_conv)\n",
    "w_conv2=weight_init([5,5,16,32])\n",
    "b_conv2=bias_init([32])\n",
    "s_conv=tf.nn.relu(conv_d(f_pool,w_conv2) + b_conv2)\n",
    "s_pool=max_pool(s_conv)\n",
    "w_conv3=weight_init([5,5,32,64])\n",
    "b_conv3=bias_init([64])\n",
    "t_conv=tf.nn.relu(conv_d(s_pool,w_conv3) + b_conv3)\n",
    "t_pool=max_pool(t_conv)\n",
    "t_pool_flat=tf.reshape(t_pool,[-1,4*4*64])\n",
    "weight_flat=weight_init([4*4*64,1024])\n",
    "bias_flat=bias_init([1024])\n",
    "keep_prob=tf.placeholder(tf.float32)\n",
    "f1=(tf.matmul(t_pool_flat,weight_flat)+bias_flat)\n",
    "h_fc1=tf.nn.relu(f1)\n",
    "h_fc1_drop=tf.nn.dropout(h_fc1,keep_prob)\n",
    "\n",
    "weight_flat2=weight_init([1024,1024])\n",
    "bias_flat2=bias_init([1024])\n",
    "h_fc2=tf.nn.relu((tf.matmul(h_fc1_drop,weight_flat2)+bias_flat2))\n",
    "h_fc2_drop=tf.nn.dropout(h_fc2,keep_prob)\n",
    "\n",
    "weight_flat3=weight_init([1024,2])\n",
    "bias_flat3=bias_init([2])\n",
    "y_conv=(tf.matmul(h_fc2_drop,weight_flat3)+bias_flat3)\n",
    "\n",
    "cross_entropy = tf.reduce_mean(\n",
    "    tf.nn.softmax_cross_entropy_with_logits(labels=y_, logits=y_conv))\n",
    "train_step = tf.train.AdamOptimizer(0.001).minimize(cross_entropy)\n",
    "\n",
    "\n",
    "correct_prediction = tf.equal(tf.argmax(y_conv,1), tf.argmax(y_,1))\n",
    "accuracy = tf.reduce_mean(tf.cast(correct_prediction, tf.float32))\n",
    "with tf.Session() as sess:\n",
    "    \n",
    "    sess.run(tf.global_variables_initializer())\n",
    "    batch=23\n",
    "    for j in range(15):\n",
    "\n",
    "        for i in range(1000):\n",
    "\n",
    "\n",
    "            batch_labels=onehot_train[i*batch:(i+1)*batch,:]\n",
    "\n",
    "            batch_images=x_train[i*batch:(i+1)*batch,:]\n",
    "            train_step.run(feed_dict={x:batch_images , y_:batch_labels , keep_prob: 0.5}) \n",
    "\n",
    "        train_accuracy = accuracy.eval(feed_dict={x:x_valid, y_:onehot_valid, keep_prob: 1.0})\n",
    "        print(\"epoch %d, training accuracy %g\"%(j, train_accuracy))\n",
    "        print(sess.run(cross_entropy,feed_dict={x:x_valid,y_:onehot_valid, keep_prob: 1.0}))"
   ]
  },
  {
   "cell_type": "code",
   "execution_count": null,
   "metadata": {},
   "outputs": [],
   "source": []
  },
  {
   "cell_type": "code",
   "execution_count": null,
   "metadata": {},
   "outputs": [],
   "source": []
  }
 ],
 "metadata": {
  "kernelspec": {
   "display_name": "Python 3",
   "language": "python",
   "name": "python3"
  },
  "language_info": {
   "codemirror_mode": {
    "name": "ipython",
    "version": 3
   },
   "file_extension": ".py",
   "mimetype": "text/x-python",
   "name": "python",
   "nbconvert_exporter": "python",
   "pygments_lexer": "ipython3",
   "version": "3.7.1"
  }
 },
 "nbformat": 4,
 "nbformat_minor": 2
}
